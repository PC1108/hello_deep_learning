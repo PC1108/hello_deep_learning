{
 "metadata": {
  "name": "",
  "signature": "sha256:ec1cfc6c8f9d73e23c618a81c07e2b9b8a5493bf552129d3477d7dc932649af9"
 },
 "nbformat": 3,
 "nbformat_minor": 0,
 "worksheets": [
  {
   "cells": [
    {
     "cell_type": "heading",
     "level": 1,
     "metadata": {},
     "source": [
      "Hello Deep Learning"
     ]
    },
    {
     "cell_type": "markdown",
     "metadata": {},
     "source": [
      "This notebook will walk through simple use cases for the following deep learning APIs.\n",
      "- [MetaMind](https://www.metamind.io/)\n",
      "- [Dextro](https://www.dextro.co/)\n",
      "- [CloudSight](http://cloudsightapi.com/)\n",
      "- [Clarifai](http://www.clarifai.com/)\n",
      "\n",
      "We will demonstrate the setup for each API, and then compare them for image and video analysis."
     ]
    },
    {
     "cell_type": "heading",
     "level": 2,
     "metadata": {},
     "source": [
      "Setup"
     ]
    },
    {
     "cell_type": "markdown",
     "metadata": {},
     "source": [
      "We'll start by entering our api credentials:"
     ]
    },
    {
     "cell_type": "code",
     "collapsed": false,
     "input": [
      "# Api Keys\n",
      "metamind_api_key = ''\n",
      "dextro_api_key = ''\n",
      "cloudsight_api_key = ''\n",
      "clarifai_api_id = ''\n",
      "clarifai_api_secret = ''"
     ],
     "language": "python",
     "metadata": {},
     "outputs": [],
     "prompt_number": 10
    },
    {
     "cell_type": "markdown",
     "metadata": {},
     "source": [
      "Clarifai and MetaMind provide python libraries to access their APIs:"
     ]
    },
    {
     "cell_type": "code",
     "collapsed": false,
     "input": [
      "# Set MetaMind api key \n",
      "import metamind.api\n",
      "metamind.api.set_api_key(metamind_api_key)\n",
      "\n",
      "# Create Clarifai api\n",
      "from clarifai.client import ClarifaiApi\n",
      "clarifai_api = ClarifaiApi(clarifai_api_id, clarifai_api_secret)"
     ],
     "language": "python",
     "metadata": {},
     "outputs": [
      {
       "output_type": "stream",
       "stream": "stdout",
       "text": [
        "Hello, Noam Finkelstein\n"
       ]
      }
     ],
     "prompt_number": 11
    },
    {
     "cell_type": "markdown",
     "metadata": {},
     "source": [
      "Dextro and CloudSight expect credentials to be sent manually with each request."
     ]
    },
    {
     "cell_type": "markdown",
     "metadata": {},
     "source": [
      "Finally, let's set up urls we will use in the trials below:"
     ]
    },
    {
     "cell_type": "code",
     "collapsed": false,
     "input": [
      "# image urls\n",
      "apple_pie_url = 'https://upload.wikimedia.org/wikipedia/commons/3/32/Apple_Pie.JPG'\n",
      "\n",
      "# video urls\n",
      "video_url = 'https://s3.amazonaws.com/clarifai-tmp/demo-videos/GoPro+Dolomites+2013-SD.mp4'"
     ],
     "language": "python",
     "metadata": {},
     "outputs": [],
     "prompt_number": 12
    },
    {
     "cell_type": "heading",
     "level": 2,
     "metadata": {},
     "source": [
      "Image Analysis"
     ]
    },
    {
     "cell_type": "heading",
     "level": 3,
     "metadata": {},
     "source": [
      "MetaMind"
     ]
    },
    {
     "cell_type": "code",
     "collapsed": false,
     "input": [
      "metamind.api.general_image_classifier.predict([apple_pie_url], input_type='urls')"
     ],
     "language": "python",
     "metadata": {},
     "outputs": [
      {
       "metadata": {},
       "output_type": "pyout",
       "prompt_number": 13,
       "text": [
        "[{u'label': u'potpie',\n",
        "  u'probability': 0.3300681412220001,\n",
        "  u'user_value': u'https://upload.wikimedia.org/wikipedia/commons/3/32/Apple_Pie.JPG'}]"
       ]
      }
     ],
     "prompt_number": 13
    },
    {
     "cell_type": "heading",
     "level": 3,
     "metadata": {},
     "source": [
      "Clarifai"
     ]
    },
    {
     "cell_type": "code",
     "collapsed": false,
     "input": [
      "import hello_clarifai\n",
      "\n",
      "results = clarifai_api.tag_image_urls([apple_pie_url])\n",
      "\n",
      "# The summarize_tag_results function drops some metadata \n",
      "# and organizes results to be more readable. \n",
      "hello_clarifai.summarize_tag_results(results)"
     ],
     "language": "python",
     "metadata": {},
     "outputs": [
      {
       "metadata": {},
       "output_type": "pyout",
       "prompt_number": 14,
       "text": [
        "[[(u'food', 0.9984452724456787),\n",
        "  (u'bread', 0.9857070446014404),\n",
        "  (u'nobody', 0.9849308729171753),\n",
        "  (u'delicious', 0.9761537313461304),\n",
        "  (u'pastry', 0.974103569984436),\n",
        "  (u'fruit', 0.9721685647964478),\n",
        "  (u'pie', 0.9702956676483154),\n",
        "  (u'meal', 0.9688215255737305),\n",
        "  (u'dish', 0.9661171436309814),\n",
        "  (u'cheese', 0.9650047421455383),\n",
        "  (u'tasty', 0.9647811055183411),\n",
        "  (u'meat', 0.9617979526519775),\n",
        "  (u'dinner', 0.9536418914794922),\n",
        "  (u'apple', 0.9526072144508362),\n",
        "  (u'cuisine', 0.950637698173523),\n",
        "  (u'traditional', 0.9484261870384216),\n",
        "  (u'tomato', 0.9480432271957397),\n",
        "  (u'lunch', 0.9470790028572083),\n",
        "  (u'dairy product', 0.9447680711746216),\n",
        "  (u'pizza', 0.9435980319976807)]]"
       ]
      }
     ],
     "prompt_number": 14
    },
    {
     "cell_type": "heading",
     "level": 3,
     "metadata": {},
     "source": [
      "CloudSight"
     ]
    },
    {
     "cell_type": "code",
     "collapsed": false,
     "input": [
      "import hello_cloudsight\n",
      "\n",
      "# CloudSight returns a token you can use to retrieve results later  \n",
      "cloudsight_image_token = hello_cloudsight.get_token_for_url_image(apple_pie_url, cloudsight_api_key)\n",
      "\n",
      "# CloudSight recommends allowing 4 seconds for the image to be analyzed on their servers\n",
      "import time\n",
      "time.sleep(4)\n",
      "\n",
      "# After which we can ping them for the results - get_results_for_token will\n",
      "# continue to retry to request so long as the analysis is incomplete\n",
      "hello_cloudsight.get_results_for_token(cloudsight_image_token, cloudsight_api_key)"
     ],
     "language": "python",
     "metadata": {},
     "outputs": [
      {
       "metadata": {},
       "output_type": "pyout",
       "prompt_number": 15,
       "text": [
        "{u'name': u'apple pie', u'status': u'completed'}"
       ]
      }
     ],
     "prompt_number": 15
    },
    {
     "cell_type": "heading",
     "level": 2,
     "metadata": {},
     "source": [
      "Video Analysis"
     ]
    },
    {
     "cell_type": "heading",
     "level": 3,
     "metadata": {},
     "source": [
      "Clarifai"
     ]
    },
    {
     "cell_type": "markdown",
     "metadata": {},
     "source": [
      "Clarifai grabs an image at each second of the video, and analyzes those images.  Below we look only at the first 2 seconds of the video.  "
     ]
    },
    {
     "cell_type": "code",
     "collapsed": false,
     "input": [
      "results = clarifai_api.tag_image_urls(video_url)\n",
      "hello_clarifai.summarize_tag_results(results)[0][:2]"
     ],
     "language": "python",
     "metadata": {},
     "outputs": [
      {
       "metadata": {},
       "output_type": "pyout",
       "prompt_number": 16,
       "text": [
        "[(0.0,\n",
        "  [(u'background', 0.9869964122772217),\n",
        "   (u'abstract', 0.9793128371238708),\n",
        "   (u'dark', 0.971936047077179),\n",
        "   (u'texture', 0.9718639850616455),\n",
        "   (u'black and white', 0.9529573321342468),\n",
        "   (u'light', 0.9379139542579651),\n",
        "   (u'design', 0.923470675945282),\n",
        "   (u'space', 0.9224435687065125),\n",
        "   (u'art', 0.9218425154685974),\n",
        "   (u'monochrome', 0.9110426306724548),\n",
        "   (u'nature', 0.8978468775749207),\n",
        "   (u'color', 0.8957151770591736),\n",
        "   (u'colour', 0.8925448060035706),\n",
        "   (u'shape', 0.8891518115997314),\n",
        "   (u'graphic', 0.8876165747642517),\n",
        "   (u'wallpaper', 0.8803334832191467),\n",
        "   (u'night', 0.8672230243682861),\n",
        "   (u'backdrop', 0.8551369309425354),\n",
        "   (u'pattern', 0.8392404913902283),\n",
        "   (u'sepia', 0.8302779197692871)]),\n",
        " (1.0,\n",
        "  [(u'background', 0.9871306419372559),\n",
        "   (u'abstract', 0.9734833240509033),\n",
        "   (u'dark', 0.9681015014648438),\n",
        "   (u'light', 0.9552891850471497),\n",
        "   (u'texture', 0.9507375955581665),\n",
        "   (u'illustration', 0.9300782680511475),\n",
        "   (u'shape', 0.9120906591415405),\n",
        "   (u'design', 0.9054478406906128),\n",
        "   (u'space', 0.9042370319366455),\n",
        "   (u'moon', 0.8972625732421875),\n",
        "   (u'nature', 0.8968276381492615),\n",
        "   (u'nobody', 0.8912912607192993),\n",
        "   (u'art', 0.8847447037696838),\n",
        "   (u'night', 0.8823001384735107),\n",
        "   (u'astronomy', 0.8802872896194458),\n",
        "   (u'pattern', 0.8734879493713379),\n",
        "   (u'horizontal', 0.8641049861907959),\n",
        "   (u'black and white', 0.8571275472640991),\n",
        "   (u'frame', 0.8563194274902344),\n",
        "   (u'graphic', 0.8562278747558594)])]"
       ]
      }
     ],
     "prompt_number": 16
    },
    {
     "cell_type": "heading",
     "level": 3,
     "metadata": {},
     "source": [
      "Dextro"
     ]
    },
    {
     "cell_type": "markdown",
     "metadata": {},
     "source": [
      "Dextro finds a few salient tags, which it calls 'detections'.  It returns those tags, and for each tag it also returns a list of time spans during which that tag was evident."
     ]
    },
    {
     "cell_type": "code",
     "collapsed": false,
     "input": [
      "# Dextro posts the results of its analysis to a URL that you provide.\n",
      "# For demonstration only, we've put up a lightweight webapp for experimentation.\n",
      "# Please do not use it in production or for sensitive materials.\n",
      "callback_url = 'https://fflabs-dextro-callback.herokuapp.com/request'\n",
      "\n",
      "import hello_dextro\n",
      "\n",
      "response = hello_dextro.categorize_video(video_url, dextro_api_key, callback_url)\n",
      "hello_dextro.print_video_categorization_response(response, callback_url)"
     ],
     "language": "python",
     "metadata": {},
     "outputs": [
      {
       "output_type": "stream",
       "stream": "stdout",
       "text": [
        "Response from Dextro:  {u'eta': 600, u'request_id': u'1438895750.03V7UQK8D2BS'}\n",
        "Results will be available at https://fflabs-dextro-callback.herokuapp.com/request/1438895750.03V7UQK8D2BS\n",
        "Dextro predicts that they will arrive in 600 seconds.\n",
        "\n"
       ]
      }
     ],
     "prompt_number": 17
    }
   ],
   "metadata": {}
  }
 ]
}